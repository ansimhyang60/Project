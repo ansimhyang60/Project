{
 "cells": [
  {
   "cell_type": "code",
   "execution_count": 24,
   "id": "257d3750",
   "metadata": {},
   "outputs": [],
   "source": [
    "from tensorflow.keras.datasets import imdb\n",
    "import pandas as pd\n",
    "import numpy as np\n",
    "import matplotlib.pyplot as plt\n",
    "import re\n",
    "import urllib.request\n",
    "# from konlpy.tag import Okt\n",
    "from konlpy.tag import Mecab\n",
    "from tqdm import tqdm\n",
    "from tensorflow.keras.preprocessing.text import Tokenizer\n",
    "from tensorflow.keras.preprocessing.sequence import pad_sequences\n",
    "\n",
    "# 모델 생성\n",
    "from tensorflow.keras.layers import Embedding, Dense, LSTM, Input\n",
    "from tensorflow.keras.models import Sequential, Model\n",
    "from tensorflow.keras.models import load_model\n",
    "from tensorflow.keras.callbacks import EarlyStopping, ModelCheckpoint"
   ]
  },
  {
   "cell_type": "code",
   "execution_count": 25,
   "id": "6e8c7e0e",
   "metadata": {},
   "outputs": [],
   "source": [
    "(X_train, Y_train), (X_test, Y_test)=imdb.load_data()"
   ]
  },
  {
   "cell_type": "code",
   "execution_count": 26,
   "id": "3ada09cd",
   "metadata": {},
   "outputs": [
    {
     "name": "stdout",
     "output_type": "stream",
     "text": [
      "훈련데이터: 25000\n",
      "검증 (테스트) 데이터 : 25000\n",
      "카테고리: 2\n"
     ]
    }
   ],
   "source": [
    "print(f'훈련데이터: {len(X_train)}')\n",
    "print(f'검증 (테스트) 데이터 : {len(X_test)}')\n",
    "num_class=len(set(Y_train))\n",
    "print(f\"카테고리: {num_class}\")"
   ]
  },
  {
   "cell_type": "code",
   "execution_count": 27,
   "id": "5ba7d57e",
   "metadata": {},
   "outputs": [
    {
     "name": "stdout",
     "output_type": "stream",
     "text": [
      "X_train 크기: (25000, 500)\n",
      "X_test 크기: (25000, 500)\n"
     ]
    }
   ],
   "source": [
    "max_features = 10000\n",
    "maxlen = 500\n",
    "batch_size = 128\n",
    "\n",
    "#시퀀스 패딩\n",
    "X_train = keras.preprocessing.sequence.pad_sequences(X_train, maxlen=maxlen, padding='post')\n",
    "X_test = keras.preprocessing.sequence.pad_sequences(X_test, maxlen=maxlen, padding='post')\n",
    "print('X_train 크기:', X_train.shape)\n",
    "print('X_test 크기:', X_test.shape)"
   ]
  },
  {
   "cell_type": "code",
   "execution_count": 53,
   "id": "7360fa21",
   "metadata": {},
   "outputs": [
    {
     "name": "stdout",
     "output_type": "stream",
     "text": [
      "Model: \"sequential_20\"\n",
      "_________________________________________________________________\n",
      " Layer (type)                Output Shape              Param #   \n",
      "=================================================================\n",
      " embedding_22 (Embedding)    (None, None, 1000)        10000000  \n",
      "                                                                 \n",
      " simple_rnn_28 (SimpleRNN)   (None, 32)                33056     \n",
      "                                                                 \n",
      " dense_24 (Dense)            (None, 1)                 33        \n",
      "                                                                 \n",
      "=================================================================\n",
      "Total params: 10,033,089\n",
      "Trainable params: 10,033,089\n",
      "Non-trainable params: 0\n",
      "_________________________________________________________________\n"
     ]
    }
   ],
   "source": [
    "model1 = models.Sequential(\n",
    "[layers.Embedding(max_features, 1000),\n",
    "layers.SimpleRNN(32),\n",
    "layers.Dense(1, activation='sigmoid')],\n",
    ")\n",
    "model1.compile(optimizer='adam', loss='binary_crossentropy', metrics='acc')\n",
    "model1.summary()"
   ]
  },
  {
   "cell_type": "code",
   "execution_count": null,
   "id": "8e5bf8c1",
   "metadata": {},
   "outputs": [],
   "source": [
    "model.evaluate(x_test, y_test)"
   ]
  },
  {
   "cell_type": "code",
   "execution_count": 65,
   "id": "d3c779cd",
   "metadata": {},
   "outputs": [],
   "source": [
    "vocab_size =10000\n",
    "(X_train, Y_train), (X_test, Y_test) = imdb.load_data(num_words = vocab_size)"
   ]
  },
  {
   "cell_type": "markdown",
   "id": "3074a202",
   "metadata": {},
   "source": [
    "## LSTM"
   ]
  },
  {
   "cell_type": "code",
   "execution_count": 70,
   "id": "1284f0c4",
   "metadata": {},
   "outputs": [
    {
     "name": "stdout",
     "output_type": "stream",
     "text": [
      "Model: \"sequential_25\"\n",
      "_________________________________________________________________\n",
      " Layer (type)                Output Shape              Param #   \n",
      "=================================================================\n",
      " embedding_27 (Embedding)    (None, None, 200)         2000000   \n",
      "                                                                 \n",
      " lstm_4 (LSTM)               (None, 256)               467968    \n",
      "                                                                 \n",
      " dense_29 (Dense)            (None, 1)                 257       \n",
      "                                                                 \n",
      "=================================================================\n",
      "Total params: 2,468,225\n",
      "Trainable params: 2,468,225\n",
      "Non-trainable params: 0\n",
      "_________________________________________________________________\n"
     ]
    }
   ],
   "source": [
    "embedding_dim = 200\n",
    "hidden_units = 256\n",
    "model2 = Sequential()\n",
    "model2.add(Embedding(vocab_size, embedding_dim))\n",
    "model2.add(LSTM(hidden_units))\n",
    "model2.add(Dense(1, activation='sigmoid'))\n",
    "\n",
    "es = EarlyStopping(monitor='val_loss', mode='min', verbose=1, patience=4)\n",
    "mc = ModelCheckpoint('best_model.h5', monitor='val_acc', mode='max', verbose=1, save_best_only=True)\n",
    "\n",
    "model2.compile(optimizer='rmsprop', loss='binary_crossentropy', metrics=['acc'])\n",
    "model2.summary()"
   ]
  },
  {
   "cell_type": "code",
   "execution_count": null,
   "id": "2e8a79fa",
   "metadata": {},
   "outputs": [],
   "source": []
  }
 ],
 "metadata": {
  "kernelspec": {
   "display_name": "Python 3 (ipykernel)",
   "language": "python",
   "name": "python3"
  },
  "language_info": {
   "codemirror_mode": {
    "name": "ipython",
    "version": 3
   },
   "file_extension": ".py",
   "mimetype": "text/x-python",
   "name": "python",
   "nbconvert_exporter": "python",
   "pygments_lexer": "ipython3",
   "version": "3.9.7"
  }
 },
 "nbformat": 4,
 "nbformat_minor": 5
}
