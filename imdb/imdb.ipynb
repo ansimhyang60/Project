{
 "cells": [
  {
   "cell_type": "code",
   "execution_count": 1,
   "id": "daqPUxKXJgXZ",
   "metadata": {
    "colab": {
     "base_uri": "https://localhost:8080/"
    },
    "id": "daqPUxKXJgXZ",
    "outputId": "335a6bac-76fd-4d7c-fd73-f80eb34d3151"
   },
   "outputs": [
    {
     "name": "stdout",
     "output_type": "stream",
     "text": [
      "Requirement already satisfied: konlpy in d:\\s\\lib\\site-packages (0.6.0)\n",
      "Requirement already satisfied: numpy>=1.6 in d:\\s\\lib\\site-packages (from konlpy) (1.20.3)\n",
      "Requirement already satisfied: lxml>=4.1.0 in d:\\s\\lib\\site-packages (from konlpy) (4.6.3)\n",
      "Requirement already satisfied: JPype1>=0.7.0 in d:\\s\\lib\\site-packages (from konlpy) (1.3.0)\n",
      "Note: you may need to restart the kernel to use updated packages.\n"
     ]
    }
   ],
   "source": [
    "%pip install konlpy"
   ]
  },
  {
   "cell_type": "code",
   "execution_count": 2,
   "id": "0111c21b",
   "metadata": {},
   "outputs": [],
   "source": [
    "from tensorflow.keras.datasets import imdb\n",
    "import pandas as pd\n",
    "import numpy as np\n",
    "import matplotlib.pyplot as plt\n",
    "import re\n",
    "import urllib.request\n",
    "from konlpy.tag import Okt\n",
    "from konlpy.tag import Mecab\n",
    "from tqdm import tqdm\n",
    "from tensorflow.keras.preprocessing.text import Tokenizer\n",
    "from tensorflow.keras.preprocessing.sequence import pad_sequences\n",
    "\n",
    "# 모델 생성\n",
    "import tensorflow.keras as keras\n",
    "from tensorflow.keras.layers import Embedding, Dense, LSTM, Input\n",
    "import tensorflow.keras.models as models\n",
    "from tensorflow.keras.models import Sequential, Model\n",
    "from tensorflow.keras.models import load_model\n",
    "from tensorflow.keras.callbacks import EarlyStopping, ModelCheckpoint\n",
    "import tensorflow.keras.layers as layers"
   ]
  },
  {
   "cell_type": "code",
   "execution_count": 3,
   "id": "4704a750",
   "metadata": {
    "colab": {
     "base_uri": "https://localhost:8080/"
    },
    "id": "4704a750",
    "outputId": "4b56a6d9-c91c-4909-8685-31dd8d2d04ef"
   },
   "outputs": [],
   "source": [
    "(X_train, Y_train), (X_test, Y_test) = imdb.load_data(num_words=20000)"
   ]
  },
  {
   "cell_type": "code",
   "execution_count": 4,
   "id": "523fbfc0",
   "metadata": {
    "colab": {
     "base_uri": "https://localhost:8080/"
    },
    "id": "523fbfc0",
    "outputId": "4ea816de-425a-4faf-ef1a-a496782475d3"
   },
   "outputs": [
    {
     "name": "stdout",
     "output_type": "stream",
     "text": [
      "훈련 데이터: 25000\n",
      "검증(테스트) 데이터: 25000\n",
      "카테고리: 2\n"
     ]
    }
   ],
   "source": [
    "print(f\"훈련 데이터: {len(X_train)}\")\n",
    "print(f\"검증(테스트) 데이터: {len(X_test)}\")\n",
    "num_classes = len(set(Y_train))\n",
    "print(f\"카테고리: {num_classes}\")"
   ]
  },
  {
   "cell_type": "code",
   "execution_count": 5,
   "id": "8268fb59",
   "metadata": {
    "colab": {
     "base_uri": "https://localhost:8080/"
    },
    "id": "8268fb59",
    "outputId": "f53fbb04-6652-4600-cf4f-67ebe90ac2ad"
   },
   "outputs": [
    {
     "data": {
      "text/plain": [
       "[1,\n",
       " 14,\n",
       " 22,\n",
       " 16,\n",
       " 43,\n",
       " 530,\n",
       " 973,\n",
       " 1622,\n",
       " 1385,\n",
       " 65,\n",
       " 458,\n",
       " 4468,\n",
       " 66,\n",
       " 3941,\n",
       " 4,\n",
       " 173,\n",
       " 36,\n",
       " 256,\n",
       " 5,\n",
       " 25,\n",
       " 100,\n",
       " 43,\n",
       " 838,\n",
       " 112,\n",
       " 50,\n",
       " 670,\n",
       " 2,\n",
       " 9,\n",
       " 35,\n",
       " 480,\n",
       " 284,\n",
       " 5,\n",
       " 150,\n",
       " 4,\n",
       " 172,\n",
       " 112,\n",
       " 167,\n",
       " 2,\n",
       " 336,\n",
       " 385,\n",
       " 39,\n",
       " 4,\n",
       " 172,\n",
       " 4536,\n",
       " 1111,\n",
       " 17,\n",
       " 546,\n",
       " 38,\n",
       " 13,\n",
       " 447,\n",
       " 4,\n",
       " 192,\n",
       " 50,\n",
       " 16,\n",
       " 6,\n",
       " 147,\n",
       " 2025,\n",
       " 19,\n",
       " 14,\n",
       " 22,\n",
       " 4,\n",
       " 1920,\n",
       " 4613,\n",
       " 469,\n",
       " 4,\n",
       " 22,\n",
       " 71,\n",
       " 87,\n",
       " 12,\n",
       " 16,\n",
       " 43,\n",
       " 530,\n",
       " 38,\n",
       " 76,\n",
       " 15,\n",
       " 13,\n",
       " 1247,\n",
       " 4,\n",
       " 22,\n",
       " 17,\n",
       " 515,\n",
       " 17,\n",
       " 12,\n",
       " 16,\n",
       " 626,\n",
       " 18,\n",
       " 19193,\n",
       " 5,\n",
       " 62,\n",
       " 386,\n",
       " 12,\n",
       " 8,\n",
       " 316,\n",
       " 8,\n",
       " 106,\n",
       " 5,\n",
       " 4,\n",
       " 2223,\n",
       " 5244,\n",
       " 16,\n",
       " 480,\n",
       " 66,\n",
       " 3785,\n",
       " 33,\n",
       " 4,\n",
       " 130,\n",
       " 12,\n",
       " 16,\n",
       " 38,\n",
       " 619,\n",
       " 5,\n",
       " 25,\n",
       " 124,\n",
       " 51,\n",
       " 36,\n",
       " 135,\n",
       " 48,\n",
       " 25,\n",
       " 1415,\n",
       " 33,\n",
       " 6,\n",
       " 22,\n",
       " 12,\n",
       " 215,\n",
       " 28,\n",
       " 77,\n",
       " 52,\n",
       " 5,\n",
       " 14,\n",
       " 407,\n",
       " 16,\n",
       " 82,\n",
       " 10311,\n",
       " 8,\n",
       " 4,\n",
       " 107,\n",
       " 117,\n",
       " 5952,\n",
       " 15,\n",
       " 256,\n",
       " 4,\n",
       " 2,\n",
       " 7,\n",
       " 3766,\n",
       " 5,\n",
       " 723,\n",
       " 36,\n",
       " 71,\n",
       " 43,\n",
       " 530,\n",
       " 476,\n",
       " 26,\n",
       " 400,\n",
       " 317,\n",
       " 46,\n",
       " 7,\n",
       " 4,\n",
       " 12118,\n",
       " 1029,\n",
       " 13,\n",
       " 104,\n",
       " 88,\n",
       " 4,\n",
       " 381,\n",
       " 15,\n",
       " 297,\n",
       " 98,\n",
       " 32,\n",
       " 2071,\n",
       " 56,\n",
       " 26,\n",
       " 141,\n",
       " 6,\n",
       " 194,\n",
       " 7486,\n",
       " 18,\n",
       " 4,\n",
       " 226,\n",
       " 22,\n",
       " 21,\n",
       " 134,\n",
       " 476,\n",
       " 26,\n",
       " 480,\n",
       " 5,\n",
       " 144,\n",
       " 30,\n",
       " 5535,\n",
       " 18,\n",
       " 51,\n",
       " 36,\n",
       " 28,\n",
       " 224,\n",
       " 92,\n",
       " 25,\n",
       " 104,\n",
       " 4,\n",
       " 226,\n",
       " 65,\n",
       " 16,\n",
       " 38,\n",
       " 1334,\n",
       " 88,\n",
       " 12,\n",
       " 16,\n",
       " 283,\n",
       " 5,\n",
       " 16,\n",
       " 4472,\n",
       " 113,\n",
       " 103,\n",
       " 32,\n",
       " 15,\n",
       " 16,\n",
       " 5345,\n",
       " 19,\n",
       " 178,\n",
       " 32]"
      ]
     },
     "execution_count": 5,
     "metadata": {},
     "output_type": "execute_result"
    }
   ],
   "source": [
    "X_train[0]"
   ]
  },
  {
   "cell_type": "code",
   "execution_count": 6,
   "id": "5f66af6a",
   "metadata": {
    "colab": {
     "base_uri": "https://localhost:8080/"
    },
    "id": "5f66af6a",
    "outputId": "8a076db7-8e65-46f0-b0b4-7dc866f72a69"
   },
   "outputs": [
    {
     "data": {
      "text/plain": [
       "19999"
      ]
     },
     "execution_count": 6,
     "metadata": {},
     "output_type": "execute_result"
    }
   ],
   "source": [
    "max([max(sequence) for sequence in X_train])"
   ]
  },
  {
   "cell_type": "code",
   "execution_count": 7,
   "id": "68f2a372",
   "metadata": {
    "id": "68f2a372"
   },
   "outputs": [],
   "source": [
    "from keras.models import load_model\n",
    "from keras.layers import Lambda\n",
    "import tensorflow as tf"
   ]
  },
  {
   "cell_type": "code",
   "execution_count": 8,
   "id": "8d533ea1",
   "metadata": {
    "colab": {
     "base_uri": "https://localhost:8080/"
    },
    "id": "8d533ea1",
    "outputId": "f1d59424-6eae-4eb1-d79f-a1231b3d3feb"
   },
   "outputs": [
    {
     "name": "stdout",
     "output_type": "stream",
     "text": [
      "the as you with out themselves powerful lets loves their becomes reaching had journalist of lot from anyone to have after out atmosphere never more room and it so heart shows to years of every never going and help moments or of every chest visual movie except her was several of enough more with is now current film as you of mine potentially unfortunately of you than him that with out themselves her get for was camp of you movie sometimes movie that with scary but pratfalls to story wonderful that in seeing in character to of 70s musicians with heart had shadows they of here that with her serious to have does when from why what have critics they is you that isn't one will very to as itself with other tricky in of seen over landed for anyone of and br show's to whether from than out themselves history he name half some br of 'n odd was two most of mean for 1 any an boat she he should is thought frog but of script you not while history he heart to real at barrel but when from one bit then have two of script their with her nobody most that with wasn't to with armed acting watch an for with heartfelt film want an\n"
     ]
    }
   ],
   "source": [
    "word_to_idx = tf.keras.datasets.imdb.get_word_index()\n",
    "idx_to_word = dict([(value, key) for (key, value) in word_to_idx.items()])\n",
    "decoded_review = ' '.join([idx_to_word.get(i) for i in X_train[0]])\n",
    "print(decoded_review)"
   ]
  },
  {
   "cell_type": "code",
   "execution_count": 9,
   "id": "5328e958",
   "metadata": {
    "colab": {
     "base_uri": "https://localhost:8080/"
    },
    "id": "5328e958",
    "outputId": "57d013c6-84b8-476e-aa56-ccb9b82b9996"
   },
   "outputs": [
    {
     "name": "stdout",
     "output_type": "stream",
     "text": [
      "(25000, 20000)\n",
      "(25000, 20000)\n"
     ]
    }
   ],
   "source": [
    "def vectorize_sequences(sequences, dimension=20000):\n",
    "    # Create an all-zero matrix of shape (len(sequences), dimension)\n",
    "    results = np.zeros((len(sequences), dimension))\n",
    "    for i, sequence in enumerate(sequences):\n",
    "       results[i, sequence] = 1.  # set specific indices of results[i] to 1s\n",
    "    return results\n",
    "X_train = vectorize_sequences(X_train)\n",
    "X_test = vectorize_sequences(X_test)\n",
    "print(X_train.shape)\n",
    "print(X_test.shape)"
   ]
  },
  {
   "cell_type": "code",
   "execution_count": 10,
   "id": "681bb6ec",
   "metadata": {
    "id": "681bb6ec"
   },
   "outputs": [],
   "source": [
    "Y_train = np.array(Y_train).astype('float32')\n",
    "Y_test = np.array(Y_test).astype('float32')"
   ]
  },
  {
   "cell_type": "code",
   "execution_count": 11,
   "id": "5cfb31c0",
   "metadata": {
    "id": "5cfb31c0"
   },
   "outputs": [],
   "source": [
    "max_features = 20000 # 가장 빈번하게 사용된 5000개의 단어만 사용\n",
    "maxlen = 500 # 각 시퀀스의 최대 길이\n",
    "(X_train, Y_train), (X_test, Y_test) = keras.datasets.imdb.load_data(num_words=max_features)\n",
    "# 시퀀스의 길이를 maxlen으로 변경해줌(maxlen보다 짧았으면, 0으로 채워준다)\n",
    "X_train = keras.preprocessing.sequence.pad_sequences(X_train, maxlen=maxlen, padding='post')\n",
    "X_test = keras.preprocessing.sequence.pad_sequences(X_test, maxlen=maxlen, padding='post')"
   ]
  },
  {
   "cell_type": "markdown",
   "id": "f30aa797",
   "metadata": {
    "id": "f30aa797"
   },
   "source": [
    "## Word Embedding layer를 이용한 Dense model1"
   ]
  },
  {
   "cell_type": "code",
   "execution_count": 12,
   "id": "2d7c9976",
   "metadata": {
    "colab": {
     "base_uri": "https://localhost:8080/"
    },
    "id": "2d7c9976",
    "outputId": "0266a651-bb98-4560-f8fa-32be64d6b4d4"
   },
   "outputs": [
    {
     "name": "stdout",
     "output_type": "stream",
     "text": [
      "Model: \"sequential\"\n",
      "_________________________________________________________________\n",
      " Layer (type)                Output Shape              Param #   \n",
      "=================================================================\n",
      " embedding (Embedding)       (None, 500, 64)           1280000   \n",
      "                                                                 \n",
      " flatten (Flatten)           (None, 32000)             0         \n",
      "                                                                 \n",
      " dense (Dense)               (None, 1)                 32001     \n",
      "                                                                 \n",
      "=================================================================\n",
      "Total params: 1,312,001\n",
      "Trainable params: 1,312,001\n",
      "Non-trainable params: 0\n",
      "_________________________________________________________________\n"
     ]
    }
   ],
   "source": [
    "model1 = models.Sequential(\n",
    "[layers.Embedding(20000, 64, input_length=maxlen),\n",
    "layers.Flatten(),\n",
    "layers.Dense(1, activation='sigmoid')])\n",
    "model1.compile(optimizer='adam', loss='binary_crossentropy', metrics='acc')\n",
    "model1.summary()"
   ]
  },
  {
   "cell_type": "code",
   "execution_count": 13,
   "id": "f2d7ea26",
   "metadata": {
    "colab": {
     "base_uri": "https://localhost:8080/"
    },
    "id": "f2d7ea26",
    "outputId": "2f249d61-c169-4dbb-88f4-34a2198c43e0"
   },
   "outputs": [
    {
     "name": "stdout",
     "output_type": "stream",
     "text": [
      "Epoch 1/10\n",
      "274/274 [==============================] - 4s 15ms/step - loss: 0.5444 - acc: 0.7162 - val_loss: 0.3399 - val_acc: 0.8616\n",
      "Epoch 2/10\n",
      "274/274 [==============================] - 4s 15ms/step - loss: 0.2175 - acc: 0.9225 - val_loss: 0.2797 - val_acc: 0.8860\n",
      "Epoch 3/10\n",
      "274/274 [==============================] - 4s 15ms/step - loss: 0.0953 - acc: 0.9770 - val_loss: 0.2813 - val_acc: 0.8896\n",
      "Epoch 4/10\n",
      "274/274 [==============================] - 4s 15ms/step - loss: 0.0405 - acc: 0.9950 - val_loss: 0.2920 - val_acc: 0.8888\n",
      "Epoch 5/10\n",
      "274/274 [==============================] - 4s 15ms/step - loss: 0.0190 - acc: 0.9990 - val_loss: 0.3104 - val_acc: 0.8852\n",
      "Epoch 6/10\n",
      "274/274 [==============================] - 4s 15ms/step - loss: 0.0106 - acc: 0.9997 - val_loss: 0.3230 - val_acc: 0.8885\n",
      "Epoch 7/10\n",
      "274/274 [==============================] - 4s 16ms/step - loss: 0.0064 - acc: 0.9999 - val_loss: 0.3366 - val_acc: 0.8869\n",
      "Epoch 8/10\n",
      "274/274 [==============================] - 4s 15ms/step - loss: 0.0042 - acc: 0.9999 - val_loss: 0.3486 - val_acc: 0.8859\n",
      "Epoch 9/10\n",
      "274/274 [==============================] - 4s 15ms/step - loss: 0.0029 - acc: 1.0000 - val_loss: 0.3616 - val_acc: 0.8853\n",
      "Epoch 10/10\n",
      "274/274 [==============================] - 4s 15ms/step - loss: 0.0021 - acc: 1.0000 - val_loss: 0.3705 - val_acc: 0.8860\n"
     ]
    }
   ],
   "source": [
    "history = model1.fit(X_train, Y_train,\n",
    "epochs=10,\n",
    "batch_size=64,\n",
    "validation_split=0.3)"
   ]
  },
  {
   "cell_type": "code",
   "execution_count": 14,
   "id": "69273ac0",
   "metadata": {
    "colab": {
     "base_uri": "https://localhost:8080/",
     "height": 111
    },
    "id": "69273ac0",
    "outputId": "4406a4d9-b197-4be1-8cb9-5fb2a3058753"
   },
   "outputs": [
    {
     "data": {
      "text/plain": [
       "'\\nEpoch 1/10\\n157/157 [==============================] - 2s 14ms/step - loss: 0.6308 - acc: 0.6414 - val_loss: 0.4587 - val_acc: 0.8152\\nEpoch 2/10\\n157/157 [==============================] - 2s 14ms/step - loss: 0.3258 - acc: 0.8787 - val_loss: 0.3098 - val_acc: 0.8758\\nEpoch 3/10\\n157/157 [==============================] - 2s 14ms/step - loss: 0.2055 - acc: 0.9290 - val_loss: 0.2883 - val_acc: 0.8830\\nEpoch 4/10\\n157/157 [==============================] - 2s 14ms/step - loss: 0.1417 - acc: 0.9578 - val_loss: 0.2924 - val_acc: 0.8846\\nEpoch 5/10\\n157/157 [==============================] - 2s 13ms/step - loss: 0.0959 - acc: 0.9778 - val_loss: 0.2965 - val_acc: 0.8814\\nEpoch 6/10\\n157/157 [==============================] - 2s 13ms/step - loss: 0.0631 - acc: 0.9900 - val_loss: 0.3086 - val_acc: 0.8804\\nEpoch 7/10\\n157/157 [==============================] - 2s 12ms/step - loss: 0.0422 - acc: 0.9959 - val_loss: 0.3223 - val_acc: 0.8768\\nEpoch 8/10\\n157/157 [==============================] - 2s 13ms/step - loss: 0.0287 - acc: 0.9983 - val_loss: 0.3356 - val_acc: 0.8758\\nEpoch 9/10\\n157/157 [==============================] - 2s 14ms/step - loss: 0.0202 - acc: 0.9992 - val_loss: 0.3497 - val_acc: 0.8766\\nEpoch 10/10\\n157/157 [==============================] - 2s 13ms/step - loss: 0.0149 - acc: 0.9995 - val_loss: 0.3619 - val_acc: 0.8754\\n'"
      ]
     },
     "execution_count": 14,
     "metadata": {},
     "output_type": "execute_result"
    }
   ],
   "source": [
    "#sigmoid 10000,32, batch_size=128\n",
    "'''\n",
    "Epoch 1/10\n",
    "157/157 [==============================] - 2s 14ms/step - loss: 0.6308 - acc: 0.6414 - val_loss: 0.4587 - val_acc: 0.8152\n",
    "Epoch 2/10\n",
    "157/157 [==============================] - 2s 14ms/step - loss: 0.3258 - acc: 0.8787 - val_loss: 0.3098 - val_acc: 0.8758\n",
    "Epoch 3/10\n",
    "157/157 [==============================] - 2s 14ms/step - loss: 0.2055 - acc: 0.9290 - val_loss: 0.2883 - val_acc: 0.8830\n",
    "Epoch 4/10\n",
    "157/157 [==============================] - 2s 14ms/step - loss: 0.1417 - acc: 0.9578 - val_loss: 0.2924 - val_acc: 0.8846\n",
    "Epoch 5/10\n",
    "157/157 [==============================] - 2s 13ms/step - loss: 0.0959 - acc: 0.9778 - val_loss: 0.2965 - val_acc: 0.8814\n",
    "Epoch 6/10\n",
    "157/157 [==============================] - 2s 13ms/step - loss: 0.0631 - acc: 0.9900 - val_loss: 0.3086 - val_acc: 0.8804\n",
    "Epoch 7/10\n",
    "157/157 [==============================] - 2s 12ms/step - loss: 0.0422 - acc: 0.9959 - val_loss: 0.3223 - val_acc: 0.8768\n",
    "Epoch 8/10\n",
    "157/157 [==============================] - 2s 13ms/step - loss: 0.0287 - acc: 0.9983 - val_loss: 0.3356 - val_acc: 0.8758\n",
    "Epoch 9/10\n",
    "157/157 [==============================] - 2s 14ms/step - loss: 0.0202 - acc: 0.9992 - val_loss: 0.3497 - val_acc: 0.8766\n",
    "Epoch 10/10\n",
    "157/157 [==============================] - 2s 13ms/step - loss: 0.0149 - acc: 0.9995 - val_loss: 0.3619 - val_acc: 0.8754\n",
    "'''"
   ]
  },
  {
   "cell_type": "code",
   "execution_count": 15,
   "id": "c9decc79",
   "metadata": {
    "colab": {
     "base_uri": "https://localhost:8080/",
     "height": 541
    },
    "id": "c9decc79",
    "outputId": "39c3500f-82e2-46c4-b40f-5564b4240ead"
   },
   "outputs": [
    {
     "data": {
      "image/png": "[encoded data removed]",
      "text/plain": [
       "<Figure size 432x288 with 1 Axes>"
      ]
     },
     "metadata": {
      "needs_background": "light"
     },
     "output_type": "display_data"
    },
    {
     "data": {
      "image/png": "[encoded data removed]",
      "text/plain": [
       "<Figure size 432x288 with 1 Axes>"
      ]
     },
     "metadata": {
      "needs_background": "light"
     },
     "output_type": "display_data"
    }
   ],
   "source": [
    "#그래프 \n",
    "import matplotlib.pyplot as plt\n",
    "plt.plot(history.history['loss'], 'b-', label='train loss')\n",
    "plt.plot(history.history['val_loss'], 'b--', label='valid loss')\n",
    "plt.xlabel('Epochs')\n",
    "plt.ylabel('Loss')\n",
    "plt.legend()\n",
    "plt.figure()\n",
    "\n",
    "\n",
    "plt.plot(history.history['acc'], 'g-', label='train acc')\n",
    "plt.plot(history.history['val_acc'], 'g--', label='valid acc')\n",
    "plt.xlabel('Epochs')\n",
    "plt.ylabel('Accuracy')\n",
    "plt.legend()\n",
    "plt.show()"
   ]
  },
  {
   "cell_type": "code",
   "execution_count": 16,
   "id": "260bbf62",
   "metadata": {
    "colab": {
     "base_uri": "https://localhost:8080/"
    },
    "id": "260bbf62",
    "outputId": "d3c3f410-99d3-4556-d32a-985d7e32cb04"
   },
   "outputs": [
    {
     "name": "stdout",
     "output_type": "stream",
     "text": [
      "782/782 [==============================] - 1s 1ms/step - loss: 0.4150 - acc: 0.8651\n"
     ]
    },
    {
     "data": {
      "text/plain": [
       "[0.4149598777294159, 0.8650799989700317]"
      ]
     },
     "execution_count": 16,
     "metadata": {},
     "output_type": "execute_result"
    }
   ],
   "source": [
    "model1.evaluate(X_test, Y_test)"
   ]
  },
  {
   "cell_type": "markdown",
   "id": "9kSlWZGgMYM5",
   "metadata": {
    "id": "9kSlWZGgMYM5"
   },
   "source": [
    "### SimpleRNN layer model2"
   ]
  },
  {
   "cell_type": "code",
   "execution_count": 17,
   "id": "T7aDJDUMQs0g",
   "metadata": {
    "id": "T7aDJDUMQs0g"
   },
   "outputs": [],
   "source": [
    "max_features = 5000 # 가장 빈번하게 사용된 5000개의 단어만 사용\n",
    "maxlen = 500 # 각 시퀀스의 최대 길이\n",
    "(X_train, Y_train), (X_test, Y_test) = keras.datasets.imdb.load_data(num_words=max_features)\n",
    "# 시퀀스의 길이를 maxlen으로 변경해줌(maxlen보다 짧았으면, 0으로 채워준다)\n",
    "X_train = keras.preprocessing.sequence.pad_sequences(X_train, maxlen=maxlen, padding='post')\n",
    "X_test = keras.preprocessing.sequence.pad_sequences(X_test, maxlen=maxlen, padding='post')"
   ]
  },
  {
   "cell_type": "code",
   "execution_count": 18,
   "id": "OVvqRKXFNUTG",
   "metadata": {
    "colab": {
     "base_uri": "https://localhost:8080/"
    },
    "id": "OVvqRKXFNUTG",
    "outputId": "1a7ccde1-c72b-4ddc-a871-3e0ea441c6c9"
   },
   "outputs": [
    {
     "name": "stdout",
     "output_type": "stream",
     "text": [
      "Model: \"sequential_1\"\n",
      "_________________________________________________________________\n",
      " Layer (type)                Output Shape              Param #   \n",
      "=================================================================\n",
      " embedding_1 (Embedding)     (None, None, 1000)        5000000   \n",
      "                                                                 \n",
      " simple_rnn (SimpleRNN)      (None, 64)                68160     \n",
      "                                                                 \n",
      " dense_1 (Dense)             (None, 32)                2080      \n",
      "                                                                 \n",
      " dropout_1 (Dropout)         (None, 32)                0         \n",
      "                                                                 \n",
      " dense_2 (Dense)             (None, 1)                 33        \n",
      "                                                                 \n",
      "=================================================================\n",
      "Total params: 5,070,273\n",
      "Trainable params: 5,070,273\n",
      "Non-trainable params: 0\n",
      "_________________________________________________________________\n"
     ]
    }
   ],
   "source": [
    "model2 = models.Sequential(\n",
    "[layers.Embedding(max_features, 1000),\n",
    "layers.SimpleRNN(64),\n",
    "layers.Dense(32, activation='softmax'),\n",
    "layers.Dropout(0.2),\n",
    "layers.Dense(1, activation='sigmoid')]\n",
    ")\n",
    "model2.compile(optimizer='adam', loss='binary_crossentropy', metrics='acc')\n",
    "model2.summary()"
   ]
  },
  {
   "cell_type": "code",
   "execution_count": 19,
   "id": "64e685d1",
   "metadata": {},
   "outputs": [
    {
     "name": "stdout",
     "output_type": "stream",
     "text": [
      "Epoch 1/10\n",
      "313/313 [==============================] - 5s 15ms/step - loss: 0.0859 - acc: 0.9737 - val_loss: 0.3980 - val_acc: 0.8682\n",
      "Epoch 2/10\n",
      "313/313 [==============================] - 5s 14ms/step - loss: 0.0131 - acc: 0.9993 - val_loss: 0.4121 - val_acc: 0.8694\n",
      "Epoch 3/10\n",
      "313/313 [==============================] - 5s 15ms/step - loss: 0.0062 - acc: 0.9999 - val_loss: 0.4282 - val_acc: 0.8686\n",
      "Epoch 4/10\n",
      "313/313 [==============================] - 5s 14ms/step - loss: 0.0042 - acc: 0.9999 - val_loss: 0.4423 - val_acc: 0.8702\n",
      "Epoch 5/10\n",
      "313/313 [==============================] - 5s 14ms/step - loss: 0.0030 - acc: 1.0000 - val_loss: 0.4561 - val_acc: 0.8698\n",
      "Epoch 6/10\n",
      "313/313 [==============================] - 5s 15ms/step - loss: 0.0023 - acc: 1.0000 - val_loss: 0.4693 - val_acc: 0.8692\n",
      "Epoch 7/10\n",
      "313/313 [==============================] - 5s 15ms/step - loss: 0.0018 - acc: 1.0000 - val_loss: 0.4817 - val_acc: 0.8692\n",
      "Epoch 8/10\n",
      "313/313 [==============================] - 5s 15ms/step - loss: 0.0014 - acc: 1.0000 - val_loss: 0.4941 - val_acc: 0.8690\n",
      "Epoch 9/10\n",
      "313/313 [==============================] - 5s 15ms/step - loss: 0.0011 - acc: 1.0000 - val_loss: 0.5040 - val_acc: 0.8690\n",
      "Epoch 10/10\n",
      "313/313 [==============================] - 5s 15ms/step - loss: 8.8533e-04 - acc: 1.0000 - val_loss: 0.5161 - val_acc: 0.8694\n"
     ]
    }
   ],
   "source": [
    "r = model1.fit(X_train, Y_train,\n",
    "epochs=10,\n",
    "batch_size=64,\n",
    "validation_split=0.2)"
   ]
  },
  {
   "cell_type": "code",
   "execution_count": 20,
   "id": "-Nn8THF1PiZf",
   "metadata": {
    "id": "-Nn8THF1PiZf"
   },
   "outputs": [
    {
     "data": {
      "text/plain": [
       "'\\nEpoch 1/10\\n274/274 [==============================] - 8s 28ms/step - loss: 0.0016 - acc: 1.0000 - val_loss: 0.3873 - val_acc: 0.8828\\nEpoch 2/10\\n274/274 [==============================] - 7s 27ms/step - loss: 0.0012 - acc: 1.0000 - val_loss: 0.3939 - val_acc: 0.8840\\nEpoch 3/10\\n274/274 [==============================] - 7s 27ms/step - loss: 9.4417e-04 - acc: 1.0000 - val_loss: 0.4031 - val_acc: 0.8845\\nEpoch 4/10\\n274/274 [==============================] - 8s 28ms/step - loss: 7.5166e-04 - acc: 1.0000 - val_loss: 0.4109 - val_acc: 0.8831\\nEpoch 5/10\\n274/274 [==============================] - 7s 27ms/step - loss: 5.9703e-04 - acc: 1.0000 - val_loss: 0.4191 - val_acc: 0.8835\\nEpoch 6/10\\n274/274 [==============================] - 7s 27ms/step - loss: 4.8367e-04 - acc: 1.0000 - val_loss: 0.4279 - val_acc: 0.8828\\nEpoch 7/10\\n274/274 [==============================] - 8s 27ms/step - loss: 3.9593e-04 - acc: 1.0000 - val_loss: 0.4358 - val_acc: 0.8828\\nEpoch 8/10\\n274/274 [==============================] - 7s 26ms/step - loss: 3.2646e-04 - acc: 1.0000 - val_loss: 0.4420 - val_acc: 0.8840\\nEpoch 9/10\\n274/274 [==============================] - 7s 27ms/step - loss: 2.6959e-04 - acc: 1.0000 - val_loss: 0.4516 - val_acc: 0.8824\\nEpoch 10/10\\n274/274 [==============================] - 7s 27ms/step - loss: 2.2508e-04 - acc: 1.0000 - val_loss: 0.4581 - val_acc: 0.8819\\n'"
      ]
     },
     "execution_count": 20,
     "metadata": {},
     "output_type": "execute_result"
    }
   ],
   "source": [
    "#sigmoid 5000,500, batch_size=64\n",
    "'''\n",
    "Epoch 1/10\n",
    "274/274 [==============================] - 8s 28ms/step - loss: 0.0016 - acc: 1.0000 - val_loss: 0.3873 - val_acc: 0.8828\n",
    "Epoch 2/10\n",
    "274/274 [==============================] - 7s 27ms/step - loss: 0.0012 - acc: 1.0000 - val_loss: 0.3939 - val_acc: 0.8840\n",
    "Epoch 3/10\n",
    "274/274 [==============================] - 7s 27ms/step - loss: 9.4417e-04 - acc: 1.0000 - val_loss: 0.4031 - val_acc: 0.8845\n",
    "Epoch 4/10\n",
    "274/274 [==============================] - 8s 28ms/step - loss: 7.5166e-04 - acc: 1.0000 - val_loss: 0.4109 - val_acc: 0.8831\n",
    "Epoch 5/10\n",
    "274/274 [==============================] - 7s 27ms/step - loss: 5.9703e-04 - acc: 1.0000 - val_loss: 0.4191 - val_acc: 0.8835\n",
    "Epoch 6/10\n",
    "274/274 [==============================] - 7s 27ms/step - loss: 4.8367e-04 - acc: 1.0000 - val_loss: 0.4279 - val_acc: 0.8828\n",
    "Epoch 7/10\n",
    "274/274 [==============================] - 8s 27ms/step - loss: 3.9593e-04 - acc: 1.0000 - val_loss: 0.4358 - val_acc: 0.8828\n",
    "Epoch 8/10\n",
    "274/274 [==============================] - 7s 26ms/step - loss: 3.2646e-04 - acc: 1.0000 - val_loss: 0.4420 - val_acc: 0.8840\n",
    "Epoch 9/10\n",
    "274/274 [==============================] - 7s 27ms/step - loss: 2.6959e-04 - acc: 1.0000 - val_loss: 0.4516 - val_acc: 0.8824\n",
    "Epoch 10/10\n",
    "274/274 [==============================] - 7s 27ms/step - loss: 2.2508e-04 - acc: 1.0000 - val_loss: 0.4581 - val_acc: 0.8819\n",
    "'''"
   ]
  },
  {
   "cell_type": "code",
   "execution_count": 21,
   "id": "l0w8OFe0RFJv",
   "metadata": {
    "id": "l0w8OFe0RFJv"
   },
   "outputs": [
    {
     "data": {
      "image/png": "[encoded data removed]",
      "text/plain": [
       "<Figure size 432x288 with 1 Axes>"
      ]
     },
     "metadata": {
      "needs_background": "light"
     },
     "output_type": "display_data"
    },
    {
     "data": {
      "image/png": "[encoded data removed]",
      "text/plain": [
       "<Figure size 432x288 with 1 Axes>"
      ]
     },
     "metadata": {
      "needs_background": "light"
     },
     "output_type": "display_data"
    }
   ],
   "source": [
    "#그래프 \n",
    "import matplotlib.pyplot as plt\n",
    "plt.plot(r.history['loss'], 'b-', label='train loss')\n",
    "plt.plot(r.history['val_loss'], 'b--', label='valid loss')\n",
    "plt.xlabel('Epochs')\n",
    "plt.ylabel('Loss')\n",
    "plt.legend()\n",
    "plt.figure()\n",
    "\n",
    "\n",
    "plt.plot(r.history['acc'], 'g-', label='train acc')\n",
    "plt.plot(r.history['val_acc'], 'g--', label='valid acc')\n",
    "plt.xlabel('Epochs')\n",
    "plt.ylabel('Accuracy')\n",
    "plt.legend()\n",
    "plt.show()"
   ]
  },
  {
   "cell_type": "code",
   "execution_count": 22,
   "id": "EZSjGc_oRPWz",
   "metadata": {
    "id": "EZSjGc_oRPWz"
   },
   "outputs": [
    {
     "name": "stdout",
     "output_type": "stream",
     "text": [
      "782/782 [==============================] - 53s 68ms/step - loss: 0.6932 - acc: 0.5003\n"
     ]
    },
    {
     "data": {
      "text/plain": [
       "[0.6931757926940918, 0.5003200173377991]"
      ]
     },
     "execution_count": 22,
     "metadata": {},
     "output_type": "execute_result"
    }
   ],
   "source": [
    "model2.evaluate(X_test, Y_test)"
   ]
  },
  {
   "cell_type": "markdown",
   "id": "ncu7RGmuTfIh",
   "metadata": {
    "id": "ncu7RGmuTfIh"
   },
   "source": [
    "### LSTM layer model3"
   ]
  },
  {
   "cell_type": "code",
   "execution_count": 27,
   "id": "0rcJS_lRTjDC",
   "metadata": {
    "id": "0rcJS_lRTjDC"
   },
   "outputs": [
    {
     "name": "stdout",
     "output_type": "stream",
     "text": [
      "Model: \"sequential_4\"\n",
      "_________________________________________________________________\n",
      " Layer (type)                Output Shape              Param #   \n",
      "=================================================================\n",
      " embedding_4 (Embedding)     (None, None, 500)         2500000   \n",
      "                                                                 \n",
      " lstm_2 (LSTM)               (None, 64)                144640    \n",
      "                                                                 \n",
      " dense_5 (Dense)             (None, 1)                 65        \n",
      "                                                                 \n",
      "=================================================================\n",
      "Total params: 2,644,705\n",
      "Trainable params: 2,644,705\n",
      "Non-trainable params: 0\n",
      "_________________________________________________________________\n"
     ]
    }
   ],
   "source": [
    "model3 = models.Sequential(\n",
    "[layers.Embedding(max_features, 500),\n",
    "layers.LSTM(64),\n",
    "layers.Dense(1, activation='sigmoid')]\n",
    ")\n",
    "model3.compile(optimizer='adam', loss='binary_crossentropy', metrics='acc')\n",
    "model3.summary()"
   ]
  },
  {
   "cell_type": "code",
   "execution_count": 28,
   "id": "LO6JqaiqUbwk",
   "metadata": {
    "id": "LO6JqaiqUbwk"
   },
   "outputs": [],
   "source": [
    "es = EarlyStopping(monitor='val_loss', mode='min', verbose=1, patience=4)\n",
    "mc = ModelCheckpoint(\"review_model.h5\", monitor='val_acc', mode='max', verbose=1, save_best_only=True)"
   ]
  },
  {
   "cell_type": "code",
   "execution_count": 29,
   "id": "egu_HENKd51X",
   "metadata": {
    "id": "egu_HENKd51X"
   },
   "outputs": [
    {
     "name": "stdout",
     "output_type": "stream",
     "text": [
      "Epoch 1/10\n",
      "625/625 [==============================] - ETA: 0s - loss: 0.6918 - acc: 0.5080\n",
      "Epoch 1: val_acc improved from -inf to 0.51600, saving model to review_model.h5\n",
      "625/625 [==============================] - 132s 210ms/step - loss: 0.6918 - acc: 0.5080 - val_loss: 0.6877 - val_acc: 0.5160\n",
      "Epoch 2/10\n",
      "625/625 [==============================] - ETA: 0s - loss: 0.6744 - acc: 0.5202\n",
      "Epoch 2: val_acc improved from 0.51600 to 0.52040, saving model to review_model.h5\n",
      "625/625 [==============================] - 131s 210ms/step - loss: 0.6744 - acc: 0.5202 - val_loss: 0.6882 - val_acc: 0.5204\n",
      "Epoch 3/10\n",
      "625/625 [==============================] - ETA: 0s - loss: 0.6515 - acc: 0.5367\n",
      "Epoch 3: val_acc did not improve from 0.52040\n",
      "625/625 [==============================] - 132s 212ms/step - loss: 0.6515 - acc: 0.5367 - val_loss: 0.7023 - val_acc: 0.5112\n",
      "Epoch 4/10\n",
      "625/625 [==============================] - ETA: 0s - loss: 0.6398 - acc: 0.5415\n",
      "Epoch 4: val_acc did not improve from 0.52040\n",
      "625/625 [==============================] - 131s 209ms/step - loss: 0.6398 - acc: 0.5415 - val_loss: 0.7134 - val_acc: 0.5182\n",
      "Epoch 5/10\n",
      "625/625 [==============================] - ETA: 0s - loss: 0.4972 - acc: 0.7319\n",
      "Epoch 5: val_acc improved from 0.52040 to 0.85020, saving model to review_model.h5\n",
      "625/625 [==============================] - 132s 212ms/step - loss: 0.4972 - acc: 0.7319 - val_loss: 0.3494 - val_acc: 0.8502\n",
      "Epoch 6/10\n",
      "625/625 [==============================] - ETA: 0s - loss: 0.2554 - acc: 0.8982\n",
      "Epoch 6: val_acc improved from 0.85020 to 0.87840, saving model to review_model.h5\n",
      "625/625 [==============================] - 133s 213ms/step - loss: 0.2554 - acc: 0.8982 - val_loss: 0.3119 - val_acc: 0.8784\n",
      "Epoch 7/10\n",
      "625/625 [==============================] - ETA: 0s - loss: 0.1807 - acc: 0.9311\n",
      "Epoch 7: val_acc improved from 0.87840 to 0.88200, saving model to review_model.h5\n",
      "625/625 [==============================] - 133s 213ms/step - loss: 0.1807 - acc: 0.9311 - val_loss: 0.3103 - val_acc: 0.8820\n",
      "Epoch 8/10\n",
      "625/625 [==============================] - ETA: 0s - loss: 0.1239 - acc: 0.9578\n",
      "Epoch 8: val_acc did not improve from 0.88200\n",
      "625/625 [==============================] - 133s 214ms/step - loss: 0.1239 - acc: 0.9578 - val_loss: 0.3560 - val_acc: 0.8748\n",
      "Epoch 9/10\n",
      "625/625 [==============================] - ETA: 0s - loss: 0.0817 - acc: 0.9744\n",
      "Epoch 9: val_acc did not improve from 0.88200\n",
      "625/625 [==============================] - 131s 210ms/step - loss: 0.0817 - acc: 0.9744 - val_loss: 0.4233 - val_acc: 0.8748\n",
      "Epoch 10/10\n",
      "625/625 [==============================] - ETA: 0s - loss: 0.0570 - acc: 0.9830\n",
      "Epoch 10: val_acc did not improve from 0.88200\n",
      "625/625 [==============================] - 133s 213ms/step - loss: 0.0570 - acc: 0.9830 - val_loss: 0.4564 - val_acc: 0.8726\n"
     ]
    }
   ],
   "source": [
    "r = model3.fit(X_train, Y_train, epochs=10, validation_split=0.2, callbacks=[es, mc])"
   ]
  },
  {
   "cell_type": "code",
   "execution_count": 30,
   "id": "05Kk4Jd3hTQ0",
   "metadata": {
    "id": "05Kk4Jd3hTQ0"
   },
   "outputs": [
    {
     "data": {
      "image/png": "[encoded data removed]",
      "text/plain": [
       "<Figure size 432x288 with 1 Axes>"
      ]
     },
     "metadata": {
      "needs_background": "light"
     },
     "output_type": "display_data"
    },
    {
     "data": {
      "image/png": "[encoded data removed]",
      "text/plain": [
       "<Figure size 432x288 with 1 Axes>"
      ]
     },
     "metadata": {
      "needs_background": "light"
     },
     "output_type": "display_data"
    }
   ],
   "source": [
    "#그래프 \n",
    "import matplotlib.pyplot as plt\n",
    "plt.plot(r.history['loss'], 'b-', label='train loss')\n",
    "plt.plot(r.history['val_loss'], 'b--', label='valid loss')\n",
    "plt.xlabel('Epochs')\n",
    "plt.ylabel('Loss')\n",
    "plt.legend()\n",
    "plt.figure()\n",
    "\n",
    "\n",
    "plt.plot(r.history['acc'], 'g-', label='train acc')\n",
    "plt.plot(r.history['val_acc'], 'g--', label='valid acc')\n",
    "plt.xlabel('Epochs')\n",
    "plt.ylabel('Accuracy')\n",
    "plt.legend()\n",
    "plt.show()"
   ]
  },
  {
   "cell_type": "code",
   "execution_count": 31,
   "id": "ioqVxBDNj90a",
   "metadata": {
    "id": "ioqVxBDNj90a"
   },
   "outputs": [
    {
     "name": "stdout",
     "output_type": "stream",
     "text": [
      "782/782 [==============================] - 50s 63ms/step - loss: 0.4708 - acc: 0.8662\n"
     ]
    },
    {
     "data": {
      "text/plain": [
       "[0.47076937556266785, 0.8662400245666504]"
      ]
     },
     "execution_count": 31,
     "metadata": {},
     "output_type": "execute_result"
    }
   ],
   "source": [
    "model3.evaluate(X_test, Y_test)"
   ]
  },
  {
   "cell_type": "markdown",
   "id": "38c6c4bf",
   "metadata": {},
   "source": [
    "### GRU layer model4"
   ]
  },
  {
   "cell_type": "code",
   "execution_count": 36,
   "id": "6867ae67",
   "metadata": {},
   "outputs": [
    {
     "name": "stdout",
     "output_type": "stream",
     "text": [
      "Model: \"sequential_9\"\n",
      "_________________________________________________________________\n",
      " Layer (type)                Output Shape              Param #   \n",
      "=================================================================\n",
      " embedding_9 (Embedding)     (None, None, 100)         500000    \n",
      "                                                                 \n",
      " gru_4 (GRU)                 (None, 128)               88320     \n",
      "                                                                 \n",
      " dense_10 (Dense)            (None, 1)                 129       \n",
      "                                                                 \n",
      "=================================================================\n",
      "Total params: 588,449\n",
      "Trainable params: 588,449\n",
      "Non-trainable params: 0\n",
      "_________________________________________________________________\n"
     ]
    }
   ],
   "source": [
    "model4 = models.Sequential(\n",
    "[layers.Embedding(5000, 100),\n",
    "layers.GRU(128),\n",
    "layers.Dense(1, activation='sigmoid')]\n",
    ")\n",
    "model4.compile(optimizer='adam', loss='binary_crossentropy', metrics='acc')\n",
    "model4.summary()"
   ]
  },
  {
   "cell_type": "code",
   "execution_count": 37,
   "id": "e2cc821c",
   "metadata": {},
   "outputs": [
    {
     "name": "stdout",
     "output_type": "stream",
     "text": [
      "Epoch 1/10\n",
      "274/274 [==============================] - 106s 382ms/step - loss: 0.6927 - acc: 0.5029 - val_loss: 0.6921 - val_acc: 0.5127\n",
      "Epoch 2/10\n",
      "274/274 [==============================] - 105s 382ms/step - loss: 0.6855 - acc: 0.5114 - val_loss: 0.6901 - val_acc: 0.5013\n",
      "Epoch 3/10\n",
      "274/274 [==============================] - 106s 386ms/step - loss: 0.7547 - acc: 0.5166 - val_loss: 0.6990 - val_acc: 0.4952\n",
      "Epoch 4/10\n",
      "274/274 [==============================] - 106s 388ms/step - loss: 0.6872 - acc: 0.5183 - val_loss: 0.6913 - val_acc: 0.5037\n",
      "Epoch 5/10\n",
      "274/274 [==============================] - 109s 398ms/step - loss: 0.6783 - acc: 0.5468 - val_loss: 0.6830 - val_acc: 0.5592\n",
      "Epoch 6/10\n",
      "274/274 [==============================] - 110s 401ms/step - loss: 0.6568 - acc: 0.6000 - val_loss: 0.6320 - val_acc: 0.6532\n",
      "Epoch 7/10\n",
      "274/274 [==============================] - 110s 400ms/step - loss: 0.5127 - acc: 0.7542 - val_loss: 0.4993 - val_acc: 0.7632\n",
      "Epoch 8/10\n",
      "274/274 [==============================] - 111s 405ms/step - loss: 0.3769 - acc: 0.8411 - val_loss: 0.4006 - val_acc: 0.8284\n",
      "Epoch 9/10\n",
      "274/274 [==============================] - 110s 403ms/step - loss: 0.2677 - acc: 0.8963 - val_loss: 0.4080 - val_acc: 0.8257\n",
      "Epoch 10/10\n",
      "274/274 [==============================] - 111s 404ms/step - loss: 0.2076 - acc: 0.9261 - val_loss: 0.3478 - val_acc: 0.8653\n"
     ]
    }
   ],
   "source": [
    "r = model4.fit(X_train, Y_train,\n",
    "epochs=10,\n",
    "batch_size=64,\n",
    "validation_split=0.3)"
   ]
  },
  {
   "cell_type": "code",
   "execution_count": 42,
   "id": "0860e4a8",
   "metadata": {},
   "outputs": [
    {
     "data": {
      "image/png": "[encoded data removed]",
      "text/plain": [
       "<Figure size 432x288 with 1 Axes>"
      ]
     },
     "metadata": {
      "needs_background": "light"
     },
     "output_type": "display_data"
    },
    {
     "data": {
      "image/png": "[encoded data removed]",
      "text/plain": [
       "<Figure size 432x288 with 1 Axes>"
      ]
     },
     "metadata": {
      "needs_background": "light"
     },
     "output_type": "display_data"
    }
   ],
   "source": [
    "#그래프 \n",
    "import matplotlib.pyplot as plt\n",
    "plt.plot(r.history['loss'], 'b-', label='train loss')\n",
    "plt.plot(r.history['val_loss'], 'b--', label='valid loss')\n",
    "plt.xlabel('Epochs')\n",
    "plt.ylabel('Loss')\n",
    "plt.legend()\n",
    "plt.figure()\n",
    "\n",
    "\n",
    "plt.plot(r.history['acc'], 'g-', label='train acc')\n",
    "plt.plot(r.history['val_acc'], 'g--', label='valid acc')\n",
    "plt.xlabel('Epochs')\n",
    "plt.ylabel('Accuracy')\n",
    "plt.legend()\n",
    "plt.show()"
   ]
  },
  {
   "cell_type": "code",
   "execution_count": 40,
   "id": "b51ad103",
   "metadata": {},
   "outputs": [],
   "source": [
    "es = EarlyStopping(monitor='val_loss', mode='min', verbose=1, patience=4)\n",
    "mc = ModelCheckpoint(\"review_model.h5\", monitor='val_acc', mode='max', verbose=1, save_best_only=True)"
   ]
  },
  {
   "cell_type": "code",
   "execution_count": 41,
   "id": "60765c99",
   "metadata": {},
   "outputs": [
    {
     "name": "stdout",
     "output_type": "stream",
     "text": [
      "Epoch 1/10\n",
      "625/625 [==============================] - ETA: 0s - loss: 0.2071 - acc: 0.9222\n",
      "Epoch 1: val_acc improved from -inf to 0.87740, saving model to review_model.h5\n",
      "625/625 [==============================] - 113s 179ms/step - loss: 0.2071 - acc: 0.9222 - val_loss: 0.3122 - val_acc: 0.8774\n",
      "Epoch 2/10\n",
      "625/625 [==============================] - ETA: 0s - loss: 0.1431 - acc: 0.9504\n",
      "Epoch 2: val_acc did not improve from 0.87740\n",
      "625/625 [==============================] - 112s 179ms/step - loss: 0.1431 - acc: 0.9504 - val_loss: 0.3410 - val_acc: 0.8756\n",
      "Epoch 3/10\n",
      "625/625 [==============================] - ETA: 0s - loss: 0.1106 - acc: 0.9618\n",
      "Epoch 3: val_acc did not improve from 0.87740\n",
      "625/625 [==============================] - 112s 179ms/step - loss: 0.1106 - acc: 0.9618 - val_loss: 0.3778 - val_acc: 0.8708\n",
      "Epoch 4/10\n",
      "625/625 [==============================] - ETA: 0s - loss: 0.0800 - acc: 0.9747\n",
      "Epoch 4: val_acc did not improve from 0.87740\n",
      "625/625 [==============================] - 112s 179ms/step - loss: 0.0800 - acc: 0.9747 - val_loss: 0.4230 - val_acc: 0.8710\n",
      "Epoch 5/10\n",
      "625/625 [==============================] - ETA: 0s - loss: 0.0669 - acc: 0.9800\n",
      "Epoch 5: val_acc did not improve from 0.87740\n",
      "625/625 [==============================] - 112s 179ms/step - loss: 0.0669 - acc: 0.9800 - val_loss: 0.4831 - val_acc: 0.8674\n",
      "Epoch 5: early stopping\n"
     ]
    }
   ],
   "source": [
    "r1 = model4.fit(X_train, Y_train, epochs=10, validation_split=0.2, callbacks=[es, mc])"
   ]
  },
  {
   "cell_type": "code",
   "execution_count": 45,
   "id": "f3301242",
   "metadata": {},
   "outputs": [
    {
     "name": "stdout",
     "output_type": "stream",
     "text": [
      "782/782 [==============================] - 40s 51ms/step - loss: 0.5054 - acc: 0.8556\n"
     ]
    },
    {
     "data": {
      "text/plain": [
       "[0.5053685307502747, 0.8555999994277954]"
      ]
     },
     "execution_count": 45,
     "metadata": {},
     "output_type": "execute_result"
    }
   ],
   "source": [
    "model4.evaluate(X_test, Y_test)"
   ]
  },
  {
   "cell_type": "code",
   "execution_count": null,
   "id": "ddfb9979",
   "metadata": {},
   "outputs": [],
   "source": []
  },
  {
   "cell_type": "code",
   "execution_count": null,
   "id": "330403ec",
   "metadata": {},
   "outputs": [],
   "source": []
  },
  {
   "cell_type": "code",
   "execution_count": null,
   "id": "d39059a1",
   "metadata": {},
   "outputs": [],
   "source": []
  }
 ],
 "metadata": {
  "accelerator": "GPU",
  "colab": {
   "collapsed_sections": [],
   "name": "과제1.ipynb",
   "provenance": []
  },
  "kernelspec": {
   "display_name": "Python 3 (ipykernel)",
   "language": "python",
   "name": "python3"
  },
  "language_info": {
   "codemirror_mode": {
    "name": "ipython",
    "version": 3
   },
   "file_extension": ".py",
   "mimetype": "text/x-python",
   "name": "python",
   "nbconvert_exporter": "python",
   "pygments_lexer": "ipython3",
   "version": "3.9.7"
  }
 },
 "nbformat": 4,
 "nbformat_minor": 5
}
