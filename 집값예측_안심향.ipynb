{
  "nbformat": 4,
  "nbformat_minor": 0,
  "metadata": {
    "colab": {
      "provenance": [],
      "include_colab_link": true
    },
    "kernelspec": {
      "name": "python3",
      "display_name": "Python 3"
    },
    "language_info": {
      "name": "python"
    }
  },
  "cells": [
    {
      "cell_type": "markdown",
      "metadata": {
        "id": "view-in-github",
        "colab_type": "text"
      },
      "source": [
        "<a href=\"https://colab.research.google.com/github/ansimhyang60/Project/blob/main/%EC%A7%91%EA%B0%92%EC%98%88%EC%B8%A1_%EC%95%88%EC%8B%AC%ED%96%A5.ipynb\" target=\"_parent\"><img src=\"https://colab.research.google.com/assets/colab-badge.svg\" alt=\"Open In Colab\"/></a>"
      ]
    },
    {
      "cell_type": "markdown",
      "source": [
        "[데이터 설명]\n",
        " id : 데이터 고유 id\n",
        "\n",
        "OverallQual : 전반적 재료와 마감 품질\n",
        "\n",
        "YearBuilt : 완공 연도\n",
        "\n",
        "YearRemodAdd : 리모델링 연도\n",
        "\n",
        "ExterQual : 외관 재료 품질\n",
        "\n",
        "BsmtQual : 지하실 높이\n",
        "\n",
        "TotalBsmtSF : 지하실 면적\n",
        "\n",
        "1stFlrSF : 1층 면적\n",
        "\n",
        "GrLivArea : 지상층 생활 면적\n",
        "\n",
        "FullBath : 지상층 화장실 개수\n",
        "\n",
        "KitchenQual : 부억 품질\n",
        "\n",
        "GarageYrBlt : 차고 완공 연도\n",
        "\n",
        "GarageCars: 차고 자리 개수\n",
        "\n",
        "GarageArea: 차고 면적\n",
        "\n",
        "target : 집값(달러 단위)"
      ],
      "metadata": {
        "id": "A1Agt4Ill3sy"
      }
    },
    {
      "cell_type": "code",
      "execution_count": null,
      "metadata": {
        "id": "lshXRhJ7K94i"
      },
      "outputs": [],
      "source": [
        "import numpy as np\n",
        "import pandas as pd\n",
        "import matplotlib.pyplot as plt\n",
        "%matplotlib inline\n",
        "plt.style.use(\"ggplot\")\n",
        "import seaborn as sns"
      ]
    },
    {
      "cell_type": "code",
      "source": [
        "data = pd.read_csv('train.csv')\n",
        "data.head()"
      ],
      "metadata": {
        "colab": {
          "base_uri": "https://localhost:8080/",
          "height": 267
        },
        "id": "crZVJ6F5dtnI",
        "outputId": "f1282579-4b30-4844-b5ea-ff9081597c0a"
      },
      "execution_count": null,
      "outputs": [
        {
          "output_type": "execute_result",
          "data": {
            "text/html": [
              "\n",
              "  <div id=\"df-40e11b4a-9b9a-4aa0-83ed-aac7d6696e2d\">\n",
              "    <div class=\"colab-df-container\">\n",
              "      <div>\n",
              "<style scoped>\n",
              "    .dataframe tbody tr th:only-of-type {\n",
              "        vertical-align: middle;\n",
              "    }\n",
              "\n",
              "    .dataframe tbody tr th {\n",
              "        vertical-align: top;\n",
              "    }\n",
              "\n",
              "    .dataframe thead th {\n",
              "        text-align: right;\n",
              "    }\n",
              "</style>\n",
              "<table border=\"1\" class=\"dataframe\">\n",
              "  <thead>\n",
              "    <tr style=\"text-align: right;\">\n",
              "      <th></th>\n",
              "      <th>id</th>\n",
              "      <th>Overall Qual</th>\n",
              "      <th>Gr Liv Area</th>\n",
              "      <th>Exter Qual</th>\n",
              "      <th>Garage Cars</th>\n",
              "      <th>Garage Area</th>\n",
              "      <th>Kitchen Qual</th>\n",
              "      <th>Total Bsmt SF</th>\n",
              "      <th>1st Flr SF</th>\n",
              "      <th>Bsmt Qual</th>\n",
              "      <th>Full Bath</th>\n",
              "      <th>Year Built</th>\n",
              "      <th>Year Remod/Add</th>\n",
              "      <th>Garage Yr Blt</th>\n",
              "      <th>target</th>\n",
              "    </tr>\n",
              "  </thead>\n",
              "  <tbody>\n",
              "    <tr>\n",
              "      <th>0</th>\n",
              "      <td>1</td>\n",
              "      <td>10</td>\n",
              "      <td>2392</td>\n",
              "      <td>Ex</td>\n",
              "      <td>3</td>\n",
              "      <td>968</td>\n",
              "      <td>Ex</td>\n",
              "      <td>2392</td>\n",
              "      <td>2392</td>\n",
              "      <td>Ex</td>\n",
              "      <td>2</td>\n",
              "      <td>2003</td>\n",
              "      <td>2003</td>\n",
              "      <td>2003</td>\n",
              "      <td>386250</td>\n",
              "    </tr>\n",
              "    <tr>\n",
              "      <th>1</th>\n",
              "      <td>2</td>\n",
              "      <td>7</td>\n",
              "      <td>1352</td>\n",
              "      <td>Gd</td>\n",
              "      <td>2</td>\n",
              "      <td>466</td>\n",
              "      <td>Gd</td>\n",
              "      <td>1352</td>\n",
              "      <td>1352</td>\n",
              "      <td>Ex</td>\n",
              "      <td>2</td>\n",
              "      <td>2006</td>\n",
              "      <td>2007</td>\n",
              "      <td>2006</td>\n",
              "      <td>194000</td>\n",
              "    </tr>\n",
              "    <tr>\n",
              "      <th>2</th>\n",
              "      <td>3</td>\n",
              "      <td>5</td>\n",
              "      <td>900</td>\n",
              "      <td>TA</td>\n",
              "      <td>1</td>\n",
              "      <td>288</td>\n",
              "      <td>TA</td>\n",
              "      <td>864</td>\n",
              "      <td>900</td>\n",
              "      <td>TA</td>\n",
              "      <td>1</td>\n",
              "      <td>1967</td>\n",
              "      <td>1967</td>\n",
              "      <td>1967</td>\n",
              "      <td>123000</td>\n",
              "    </tr>\n",
              "    <tr>\n",
              "      <th>3</th>\n",
              "      <td>4</td>\n",
              "      <td>5</td>\n",
              "      <td>1174</td>\n",
              "      <td>TA</td>\n",
              "      <td>2</td>\n",
              "      <td>576</td>\n",
              "      <td>Gd</td>\n",
              "      <td>680</td>\n",
              "      <td>680</td>\n",
              "      <td>TA</td>\n",
              "      <td>1</td>\n",
              "      <td>1900</td>\n",
              "      <td>2006</td>\n",
              "      <td>2000</td>\n",
              "      <td>135000</td>\n",
              "    </tr>\n",
              "    <tr>\n",
              "      <th>4</th>\n",
              "      <td>5</td>\n",
              "      <td>7</td>\n",
              "      <td>1958</td>\n",
              "      <td>Gd</td>\n",
              "      <td>3</td>\n",
              "      <td>936</td>\n",
              "      <td>Gd</td>\n",
              "      <td>1026</td>\n",
              "      <td>1026</td>\n",
              "      <td>Gd</td>\n",
              "      <td>2</td>\n",
              "      <td>2005</td>\n",
              "      <td>2005</td>\n",
              "      <td>2005</td>\n",
              "      <td>250000</td>\n",
              "    </tr>\n",
              "  </tbody>\n",
              "</table>\n",
              "</div>\n",
              "      <button class=\"colab-df-convert\" onclick=\"convertToInteractive('df-40e11b4a-9b9a-4aa0-83ed-aac7d6696e2d')\"\n",
              "              title=\"Convert this dataframe to an interactive table.\"\n",
              "              style=\"display:none;\">\n",
              "        \n",
              "  <svg xmlns=\"http://www.w3.org/2000/svg\" height=\"24px\"viewBox=\"0 0 24 24\"\n",
              "       width=\"24px\">\n",
              "    <path d=\"M0 0h24v24H0V0z\" fill=\"none\"/>\n",
              "    <path d=\"M18.56 5.44l.94 2.06.94-2.06 2.06-.94-2.06-.94-.94-2.06-.94 2.06-2.06.94zm-11 1L8.5 8.5l.94-2.06 2.06-.94-2.06-.94L8.5 2.5l-.94 2.06-2.06.94zm10 10l.94 2.06.94-2.06 2.06-.94-2.06-.94-.94-2.06-.94 2.06-2.06.94z\"/><path d=\"M17.41 7.96l-1.37-1.37c-.4-.4-.92-.59-1.43-.59-.52 0-1.04.2-1.43.59L10.3 9.45l-7.72 7.72c-.78.78-.78 2.05 0 2.83L4 21.41c.39.39.9.59 1.41.59.51 0 1.02-.2 1.41-.59l7.78-7.78 2.81-2.81c.8-.78.8-2.07 0-2.86zM5.41 20L4 18.59l7.72-7.72 1.47 1.35L5.41 20z\"/>\n",
              "  </svg>\n",
              "      </button>\n",
              "      \n",
              "  <style>\n",
              "    .colab-df-container {\n",
              "      display:flex;\n",
              "      flex-wrap:wrap;\n",
              "      gap: 12px;\n",
              "    }\n",
              "\n",
              "    .colab-df-convert {\n",
              "      background-color: #E8F0FE;\n",
              "      border: none;\n",
              "      border-radius: 50%;\n",
              "      cursor: pointer;\n",
              "      display: none;\n",
              "      fill: #1967D2;\n",
              "      height: 32px;\n",
              "      padding: 0 0 0 0;\n",
              "      width: 32px;\n",
              "    }\n",
              "\n",
              "    .colab-df-convert:hover {\n",
              "      background-color: #E2EBFA;\n",
              "      box-shadow: 0px 1px 2px rgba(60, 64, 67, 0.3), 0px 1px 3px 1px rgba(60, 64, 67, 0.15);\n",
              "      fill: #174EA6;\n",
              "    }\n",
              "\n",
              "    [theme=dark] .colab-df-convert {\n",
              "      background-color: #3B4455;\n",
              "      fill: #D2E3FC;\n",
              "    }\n",
              "\n",
              "    [theme=dark] .colab-df-convert:hover {\n",
              "      background-color: #434B5C;\n",
              "      box-shadow: 0px 1px 3px 1px rgba(0, 0, 0, 0.15);\n",
              "      filter: drop-shadow(0px 1px 2px rgba(0, 0, 0, 0.3));\n",
              "      fill: #FFFFFF;\n",
              "    }\n",
              "  </style>\n",
              "\n",
              "      <script>\n",
              "        const buttonEl =\n",
              "          document.querySelector('#df-40e11b4a-9b9a-4aa0-83ed-aac7d6696e2d button.colab-df-convert');\n",
              "        buttonEl.style.display =\n",
              "          google.colab.kernel.accessAllowed ? 'block' : 'none';\n",
              "\n",
              "        async function convertToInteractive(key) {\n",
              "          const element = document.querySelector('#df-40e11b4a-9b9a-4aa0-83ed-aac7d6696e2d');\n",
              "          const dataTable =\n",
              "            await google.colab.kernel.invokeFunction('convertToInteractive',\n",
              "                                                     [key], {});\n",
              "          if (!dataTable) return;\n",
              "\n",
              "          const docLinkHtml = 'Like what you see? Visit the ' +\n",
              "            '<a target=\"_blank\" href=https://colab.research.google.com/notebooks/data_table.ipynb>data table notebook</a>'\n",
              "            + ' to learn more about interactive tables.';\n",
              "          element.innerHTML = '';\n",
              "          dataTable['output_type'] = 'display_data';\n",
              "          await google.colab.output.renderOutput(dataTable, element);\n",
              "          const docLink = document.createElement('div');\n",
              "          docLink.innerHTML = docLinkHtml;\n",
              "          element.appendChild(docLink);\n",
              "        }\n",
              "      </script>\n",
              "    </div>\n",
              "  </div>\n",
              "  "
            ],
            "text/plain": [
              "   id  Overall Qual  Gr Liv Area  ... Year Remod/Add  Garage Yr Blt  target\n",
              "0   1            10         2392  ...           2003           2003  386250\n",
              "1   2             7         1352  ...           2007           2006  194000\n",
              "2   3             5          900  ...           1967           1967  123000\n",
              "3   4             5         1174  ...           2006           2000  135000\n",
              "4   5             7         1958  ...           2005           2005  250000\n",
              "\n",
              "[5 rows x 15 columns]"
            ]
          },
          "metadata": {},
          "execution_count": 25
        }
      ]
    },
    {
      "cell_type": "code",
      "source": [
        "df = data.copy()"
      ],
      "metadata": {
        "id": "0JvJt_ZAMkjM"
      },
      "execution_count": null,
      "outputs": []
    },
    {
      "cell_type": "code",
      "source": [
        "df.dtypes"
      ],
      "metadata": {
        "colab": {
          "base_uri": "https://localhost:8080/"
        },
        "id": "Gg-bxfA1Mqfi",
        "outputId": "a51ff0b8-5964-4460-d705-7e9e97604b0a"
      },
      "execution_count": null,
      "outputs": [
        {
          "output_type": "execute_result",
          "data": {
            "text/plain": [
              "id                 int64\n",
              "Overall Qual       int64\n",
              "Gr Liv Area        int64\n",
              "Exter Qual        object\n",
              "Garage Cars        int64\n",
              "Garage Area        int64\n",
              "Kitchen Qual      object\n",
              "Total Bsmt SF      int64\n",
              "1st Flr SF         int64\n",
              "Bsmt Qual         object\n",
              "Full Bath          int64\n",
              "Year Built         int64\n",
              "Year Remod/Add     int64\n",
              "Garage Yr Blt      int64\n",
              "target             int64\n",
              "dtype: object"
            ]
          },
          "metadata": {},
          "execution_count": 27
        }
      ]
    },
    {
      "cell_type": "markdown",
      "source": [
        "# 컬럼 조회"
      ],
      "metadata": {
        "id": "KexvO980jAF_"
      }
    },
    {
      "cell_type": "code",
      "source": [
        "# 실수형 컬럼의 조회 (진정한 연속형 데이터 일 경우가 많음)\n",
        "float_data = df.columns[(df.dtypes == float)]\n",
        "print(float_data)"
      ],
      "metadata": {
        "colab": {
          "base_uri": "https://localhost:8080/"
        },
        "id": "TijQv95cNKa0",
        "outputId": "08519606-86a4-4c20-e902-6de2884cefd3"
      },
      "execution_count": null,
      "outputs": [
        {
          "output_type": "stream",
          "name": "stdout",
          "text": [
            "Index([], dtype='object')\n"
          ]
        }
      ]
    },
    {
      "cell_type": "code",
      "source": [
        "# 정수형 컬럼의 조회\n",
        "# : 연속형 컬럼일 수도 있고\n",
        "# 타이타닉의 사망0 생존 1 경우 처럼 범주형인데 수치로 나타낸 경우도 있음\n",
        "\n",
        "# 이상치 제거는 연속형 데이터에 이상치를 제거하고\n",
        "# 연속형 데이터 중 성인 남성의 키 에서 하승진 선수의 경우 매우 드문 경우 이므로 제거\n",
        "\n",
        "# 타이타닉의 생존 사망과 같은 범주형 데이터는\n",
        "#  0, 1, 2 ,100 과 같은 경우 100 이 이상치 이지만\n",
        "# 100 이라는것이 연속형 데이터 처럼 크다 작다의 의미가 아니라 그룹의 이름이기 때문에\n",
        "# 때문에 보통 이상치 제거를 하지 않음\n",
        "\n",
        "# 이상치 제거시 어느정도 데이터 손실이 일어나기 때문에 이데이터가\n",
        "# 연속형인지 아니면 범주형인지에 대해서 고민후 작업이 이루어 져야함\n",
        "\n",
        "\"\"\"\n",
        "\n",
        "id : 데이터 고유 id\n",
        "\n",
        "OverallQual : 전반적 재료와 마감 품질\n",
        "GrLivArea : 지상층 생활 면적\n",
        "GarageCars: 차고 자리 개수\n",
        "GarageArea: 차고 면적\n",
        "TotalBsmtSF : 지하실 면적\n",
        "1stFlrSF : 1층 면적\n",
        "FullBath : 지상층 화장실 개수\n",
        "YearBuilt : 완공 연도\n",
        "YearRemodAdd : 리모델링 연도\n",
        "GarageYrBlt : 차고 완공 연도\n",
        "ExterQual : 외관 재료 품질\n",
        "BsmtQual : 지하실 높이\n",
        "KitchenQual : 부억 품질\n",
        "target : 집값(달러 단위)\n",
        "\"\"\"\n",
        "\n",
        "int_data = df.columns[(df.dtypes == int)]\n",
        "print(int_data)"
      ],
      "metadata": {
        "colab": {
          "base_uri": "https://localhost:8080/"
        },
        "id": "QfCfVh-ZfU2w",
        "outputId": "f2fb94e1-63a1-41ea-c078-b11bfe434f88"
      },
      "execution_count": null,
      "outputs": [
        {
          "output_type": "stream",
          "name": "stdout",
          "text": [
            "Index(['id', 'Overall Qual', 'Gr Liv Area', 'Garage Cars', 'Garage Area',\n",
            "       'Total Bsmt SF', '1st Flr SF', 'Full Bath', 'Year Built',\n",
            "       'Year Remod/Add', 'Garage Yr Blt', 'target'],\n",
            "      dtype='object')\n"
          ]
        }
      ]
    },
    {
      "cell_type": "code",
      "source": [
        "# 차고 자리 개수\n",
        "# 연속형의 숫자로 볼 수 도 있지만 범주형으로 볼수도 있는 애매함\n",
        "\n",
        "# 집에 외제차랑 SUV 가 많아서 차고 자리가 작음 -> 집이 비싸지 않을까?\n",
        "# 집이 작아서 차고 자리 1개 -> 집이 싸지 않을까?\n",
        "\n",
        "# 아파트 혹은 연립(외국에는 저소득층 주거지) 이라서 차고 자리가 많을수도\n",
        "# 단순히 이상치 제거하지 말고 고민 필요\n",
        "\n",
        "# 연속형인가? 범주형인가?\n",
        "\n",
        "# 빈도수를 조회하면 대부분 1대~3대 사이\n",
        "df[\"Garage Cars\"].value_counts()"
      ],
      "metadata": {
        "colab": {
          "base_uri": "https://localhost:8080/"
        },
        "id": "QgJyTwHUP5H7",
        "outputId": "9c796ad1-0860-46c0-c40d-94d4e157dcd4"
      },
      "execution_count": null,
      "outputs": [
        {
          "output_type": "execute_result",
          "data": {
            "text/plain": [
              "2    794\n",
              "1    372\n",
              "3    172\n",
              "4     11\n",
              "5      1\n",
              "Name: Garage Cars, dtype: int64"
            ]
          },
          "metadata": {},
          "execution_count": 30
        }
      ]
    },
    {
      "cell_type": "code",
      "source": [
        "# 차고 면적\n",
        "plt.figure(figsize=(20,10))\n",
        "df[\"Garage Area\"].hist(bins=10)"
      ],
      "metadata": {
        "colab": {
          "base_uri": "https://localhost:8080/",
          "height": 610
        },
        "id": "-OopMhhCQBON",
        "outputId": "09cf987f-92d5-4e62-9ef2-e40d97f49f4a"
      },
      "execution_count": null,
      "outputs": [
        {
          "output_type": "execute_result",
          "data": {
            "text/plain": [
              "<matplotlib.axes._subplots.AxesSubplot at 0x7fd0c3fb3f50>"
            ]
          },
          "metadata": {},
          "execution_count": 31
        },
        {
          "output_type": "display_data",
          "data": {
            "image/png": "[encoded data removed]",
            "text/plain": [
              "<Figure size 1440x720 with 1 Axes>"
            ]
          },
          "metadata": {}
        }
      ]
    },
    {
      "cell_type": "code",
      "source": [
        "plt.figure(figsize=(20,10))\n",
        "# 차 1대당 차고 면적\n",
        "# 대부분 200~400 사이\n",
        "(df[\"Garage Area\"]//df[\"Garage Cars\"]).hist(bins=20)"
      ],
      "metadata": {
        "colab": {
          "base_uri": "https://localhost:8080/",
          "height": 610
        },
        "id": "bkCxui5iQPvu",
        "outputId": "f0d8bcc6-4770-4e12-cea2-f024edc7a8b2"
      },
      "execution_count": null,
      "outputs": [
        {
          "output_type": "execute_result",
          "data": {
            "text/plain": [
              "<matplotlib.axes._subplots.AxesSubplot at 0x7fd0c3ecec90>"
            ]
          },
          "metadata": {},
          "execution_count": 32
        },
        {
          "output_type": "display_data",
          "data": {
            "image/png": "[encoded data removed]",
            "text/plain": [
              "<Figure size 1440x720 with 1 Axes>"
            ]
          },
          "metadata": {}
        }
      ]
    },
    {
      "cell_type": "code",
      "source": [
        "# 완공년도\n",
        "# 1900 년대 : 958\n",
        "# 2000 년대 : 381\n",
        "# 1800 년대 : 11 -> 문제의 이상치들 (1800 년대에 지어진 집)\n",
        "\n",
        "(df['Year Built']//100).value_counts()"
      ],
      "metadata": {
        "colab": {
          "base_uri": "https://localhost:8080/"
        },
        "id": "mioQQot0TN6w",
        "outputId": "1f52a6a0-0b0a-4543-f0a3-ee0199c6486b"
      },
      "execution_count": null,
      "outputs": [
        {
          "output_type": "execute_result",
          "data": {
            "text/plain": [
              "19    958\n",
              "20    381\n",
              "18     11\n",
              "Name: Year Built, dtype: int64"
            ]
          },
          "metadata": {},
          "execution_count": 33
        }
      ]
    },
    {
      "cell_type": "code",
      "source": [
        "plt.figure(figsize=(20,10))\n",
        "df['Year Built'].hist()"
      ],
      "metadata": {
        "colab": {
          "base_uri": "https://localhost:8080/",
          "height": 610
        },
        "id": "81LPZ1YTS6Lx",
        "outputId": "c1d3c27c-e9f3-4823-c218-97808c864ffa"
      },
      "execution_count": null,
      "outputs": [
        {
          "output_type": "execute_result",
          "data": {
            "text/plain": [
              "<matplotlib.axes._subplots.AxesSubplot at 0x7fd0c3e6b250>"
            ]
          },
          "metadata": {},
          "execution_count": 34
        },
        {
          "output_type": "display_data",
          "data": {
            "image/png": "[encoded data removed]",
            "text/plain": [
              "<Figure size 1440x720 with 1 Axes>"
            ]
          },
          "metadata": {}
        }
      ]
    },
    {
      "cell_type": "code",
      "source": [
        "# 년도와 집값의 산점도\n",
        "# 보통 1900년도 이전에 지어진 집이 집값이 쌈\n",
        "# 그러나 1900년도 이전에 지어진 집 중에서 1집의 집값만 비쌈 (유적지? 박물관?) => 이집만 이상치로 보는건 어떤지\n",
        "plt.figure(figsize=(20,10))\n",
        "plt.scatter(x=df[\"Year Built\"], y=df[\"target\"])"
      ],
      "metadata": {
        "colab": {
          "base_uri": "https://localhost:8080/",
          "height": 610
        },
        "id": "AuKmXm3MT101",
        "outputId": "54986220-e434-428f-a84f-95eb510cb4ae"
      },
      "execution_count": null,
      "outputs": [
        {
          "output_type": "execute_result",
          "data": {
            "text/plain": [
              "<matplotlib.collections.PathCollection at 0x7fd0c3d98550>"
            ]
          },
          "metadata": {},
          "execution_count": 35
        },
        {
          "output_type": "display_data",
          "data": {
            "image/png": "[encoded data removed]",
            "text/plain": [
              "<Figure size 1440x720 with 1 Axes>"
            ]
          },
          "metadata": {}
        }
      ]
    },
    {
      "cell_type": "markdown",
      "source": [
        "[box plot Result]\n",
        "\n",
        "Remove-outlier : Garage Cars, Full Bath, Year Built, Garage Yr Blt\n",
        "\n",
        "Change-standard -> Check-outlier : Gr Liv Area, Garage Area, Total Bsmt SF, 1st Fir SF, (target)"
      ],
      "metadata": {
        "id": "SyjEbAnYkaen"
      }
    },
    {
      "cell_type": "markdown",
      "source": [
        "[Function : Removing outlier]"
      ],
      "metadata": {
        "id": "x7JxRhyTuuAa"
      }
    },
    {
      "cell_type": "code",
      "source": [
        "n4df = df[['Garage Cars', 'Full Bath', 'Year Built', 'Garage Yr Blt']]"
      ],
      "metadata": {
        "id": "k8rep0xuuYvI"
      },
      "execution_count": null,
      "outputs": []
    },
    {
      "cell_type": "code",
      "source": [
        "ndata = n4df.columns"
      ],
      "metadata": {
        "id": "W0XVdSDBVWVf"
      },
      "execution_count": null,
      "outputs": []
    },
    {
      "cell_type": "code",
      "source": [
        "plt.figure(figsize=(20,15))\n",
        "plt.suptitle(\"Boxplots\", fontsize=40)\n",
        "\n",
        "for i in range(len(ndata)):\n",
        "    plt.subplot(2,2,i+1) # 행/열/개수\n",
        "    plt.title(ndata[i])\n",
        "    plt.boxplot(df[ndata[i]])\n",
        "plt.show()"
      ],
      "metadata": {
        "colab": {
          "base_uri": "https://localhost:8080/",
          "height": 971
        },
        "outputId": "bfbba0b7-137d-4fac-c1e3-d096877ca9d3",
        "id": "r4-1AnMwuYvF"
      },
      "execution_count": null,
      "outputs": [
        {
          "output_type": "display_data",
          "data": {
            "image/png": "[encoded data removed]",
            "text/plain": [
              "<Figure size 1440x1080 with 4 Axes>"
            ]
          },
          "metadata": {}
        }
      ]
    },
    {
      "cell_type": "code",
      "source": [
        "def outlier(data):\n",
        "  q1, q3 = np.percentile(data, [25,75])\n",
        "  print(\"q1 =\", q1)\n",
        "  print(\"q3 =\", q3)\n",
        "  iqr = q3 - q1 # 중심 범위\n",
        "  lb = q1 - (iqr * 1.5) # 양쪽 0.25 만큼 확장\n",
        "  ub = q3 + (iqr * 1.5)\n",
        "  print(\"lb = \", lb)\n",
        "  print(\"ub =\" , ub)\n",
        "\n",
        "  return data.index[(data > ub) | (data < lb)]"
      ],
      "metadata": {
        "id": "9em4gxyvuYvI"
      },
      "execution_count": null,
      "outputs": []
    },
    {
      "cell_type": "code",
      "source": [
        "YB_idx = outlier(n4df['Year Built'])\n"
      ],
      "metadata": {
        "colab": {
          "base_uri": "https://localhost:8080/"
        },
        "id": "JdNYLawoyGWg",
        "outputId": "d7c401ee-29e8-465a-a637-72dd379a60c1"
      },
      "execution_count": null,
      "outputs": [
        {
          "output_type": "stream",
          "name": "stdout",
          "text": [
            "q1 = 1955.0\n",
            "q3 = 2002.0\n",
            "lb =  1884.5\n",
            "ub = 2072.5\n"
          ]
        }
      ]
    },
    {
      "cell_type": "code",
      "source": [
        "YB_idx"
      ],
      "metadata": {
        "colab": {
          "base_uri": "https://localhost:8080/"
        },
        "id": "OFzeOqj3uzkY",
        "outputId": "5fd53d8c-f780-454e-fc8c-40526dd1208b"
      },
      "execution_count": null,
      "outputs": [
        {
          "output_type": "execute_result",
          "data": {
            "text/plain": [
              "Int64Index([286, 812, 888, 940], dtype='int64')"
            ]
          },
          "metadata": {},
          "execution_count": 41
        }
      ]
    },
    {
      "cell_type": "code",
      "source": [
        "n4df.loc[YB_idx,'Year Built']"
      ],
      "metadata": {
        "colab": {
          "base_uri": "https://localhost:8080/"
        },
        "id": "cWtQrnY2uYvJ",
        "outputId": "e83c66fa-a53e-47c2-ee6f-e99de6aa2990"
      },
      "execution_count": null,
      "outputs": [
        {
          "output_type": "execute_result",
          "data": {
            "text/plain": [
              "286    1882\n",
              "812    1880\n",
              "888    1880\n",
              "940    1880\n",
              "Name: Year Built, dtype: int64"
            ]
          },
          "metadata": {},
          "execution_count": 42
        }
      ]
    },
    {
      "cell_type": "code",
      "source": [
        "n4df = n4df.loc[set(n4df.index) - set(YB_idx)]"
      ],
      "metadata": {
        "id": "LXDrN2aMuYvM"
      },
      "execution_count": null,
      "outputs": []
    },
    {
      "cell_type": "code",
      "source": [
        "# for i in n4_whole_outlier:\n",
        "#   n4df = n4df.drop(n4df.index[i])\n",
        "n4df[n4df['Year Built']<1900]"
      ],
      "metadata": {
        "colab": {
          "base_uri": "https://localhost:8080/",
          "height": 269
        },
        "outputId": "3915b354-72f8-49e9-9a3d-344909033c93",
        "id": "wGBDosfiuYvM"
      },
      "execution_count": null,
      "outputs": [
        {
          "output_type": "execute_result",
          "data": {
            "text/html": [
              "\n",
              "  <div id=\"df-3c1a675e-b68e-4848-937e-fa2890f464d6\">\n",
              "    <div class=\"colab-df-container\">\n",
              "      <div>\n",
              "<style scoped>\n",
              "    .dataframe tbody tr th:only-of-type {\n",
              "        vertical-align: middle;\n",
              "    }\n",
              "\n",
              "    .dataframe tbody tr th {\n",
              "        vertical-align: top;\n",
              "    }\n",
              "\n",
              "    .dataframe thead th {\n",
              "        text-align: right;\n",
              "    }\n",
              "</style>\n",
              "<table border=\"1\" class=\"dataframe\">\n",
              "  <thead>\n",
              "    <tr style=\"text-align: right;\">\n",
              "      <th></th>\n",
              "      <th>Garage Cars</th>\n",
              "      <th>Full Bath</th>\n",
              "      <th>Year Built</th>\n",
              "      <th>Garage Yr Blt</th>\n",
              "    </tr>\n",
              "  </thead>\n",
              "  <tbody>\n",
              "    <tr>\n",
              "      <th>125</th>\n",
              "      <td>2</td>\n",
              "      <td>2</td>\n",
              "      <td>1890</td>\n",
              "      <td>1950</td>\n",
              "    </tr>\n",
              "    <tr>\n",
              "      <th>201</th>\n",
              "      <td>2</td>\n",
              "      <td>3</td>\n",
              "      <td>1893</td>\n",
              "      <td>1988</td>\n",
              "    </tr>\n",
              "    <tr>\n",
              "      <th>280</th>\n",
              "      <td>2</td>\n",
              "      <td>2</td>\n",
              "      <td>1885</td>\n",
              "      <td>1971</td>\n",
              "    </tr>\n",
              "    <tr>\n",
              "      <th>317</th>\n",
              "      <td>2</td>\n",
              "      <td>1</td>\n",
              "      <td>1890</td>\n",
              "      <td>1996</td>\n",
              "    </tr>\n",
              "    <tr>\n",
              "      <th>467</th>\n",
              "      <td>2</td>\n",
              "      <td>1</td>\n",
              "      <td>1890</td>\n",
              "      <td>1963</td>\n",
              "    </tr>\n",
              "    <tr>\n",
              "      <th>683</th>\n",
              "      <td>3</td>\n",
              "      <td>2</td>\n",
              "      <td>1892</td>\n",
              "      <td>1993</td>\n",
              "    </tr>\n",
              "    <tr>\n",
              "      <th>1187</th>\n",
              "      <td>1</td>\n",
              "      <td>1</td>\n",
              "      <td>1885</td>\n",
              "      <td>1954</td>\n",
              "    </tr>\n",
              "  </tbody>\n",
              "</table>\n",
              "</div>\n",
              "      <button class=\"colab-df-convert\" onclick=\"convertToInteractive('df-3c1a675e-b68e-4848-937e-fa2890f464d6')\"\n",
              "              title=\"Convert this dataframe to an interactive table.\"\n",
              "              style=\"display:none;\">\n",
              "        \n",
              "  <svg xmlns=\"http://www.w3.org/2000/svg\" height=\"24px\"viewBox=\"0 0 24 24\"\n",
              "       width=\"24px\">\n",
              "    <path d=\"M0 0h24v24H0V0z\" fill=\"none\"/>\n",
              "    <path d=\"M18.56 5.44l.94 2.06.94-2.06 2.06-.94-2.06-.94-.94-2.06-.94 2.06-2.06.94zm-11 1L8.5 8.5l.94-2.06 2.06-.94-2.06-.94L8.5 2.5l-.94 2.06-2.06.94zm10 10l.94 2.06.94-2.06 2.06-.94-2.06-.94-.94-2.06-.94 2.06-2.06.94z\"/><path d=\"M17.41 7.96l-1.37-1.37c-.4-.4-.92-.59-1.43-.59-.52 0-1.04.2-1.43.59L10.3 9.45l-7.72 7.72c-.78.78-.78 2.05 0 2.83L4 21.41c.39.39.9.59 1.41.59.51 0 1.02-.2 1.41-.59l7.78-7.78 2.81-2.81c.8-.78.8-2.07 0-2.86zM5.41 20L4 18.59l7.72-7.72 1.47 1.35L5.41 20z\"/>\n",
              "  </svg>\n",
              "      </button>\n",
              "      \n",
              "  <style>\n",
              "    .colab-df-container {\n",
              "      display:flex;\n",
              "      flex-wrap:wrap;\n",
              "      gap: 12px;\n",
              "    }\n",
              "\n",
              "    .colab-df-convert {\n",
              "      background-color: #E8F0FE;\n",
              "      border: none;\n",
              "      border-radius: 50%;\n",
              "      cursor: pointer;\n",
              "      display: none;\n",
              "      fill: #1967D2;\n",
              "      height: 32px;\n",
              "      padding: 0 0 0 0;\n",
              "      width: 32px;\n",
              "    }\n",
              "\n",
              "    .colab-df-convert:hover {\n",
              "      background-color: #E2EBFA;\n",
              "      box-shadow: 0px 1px 2px rgba(60, 64, 67, 0.3), 0px 1px 3px 1px rgba(60, 64, 67, 0.15);\n",
              "      fill: #174EA6;\n",
              "    }\n",
              "\n",
              "    [theme=dark] .colab-df-convert {\n",
              "      background-color: #3B4455;\n",
              "      fill: #D2E3FC;\n",
              "    }\n",
              "\n",
              "    [theme=dark] .colab-df-convert:hover {\n",
              "      background-color: #434B5C;\n",
              "      box-shadow: 0px 1px 3px 1px rgba(0, 0, 0, 0.15);\n",
              "      filter: drop-shadow(0px 1px 2px rgba(0, 0, 0, 0.3));\n",
              "      fill: #FFFFFF;\n",
              "    }\n",
              "  </style>\n",
              "\n",
              "      <script>\n",
              "        const buttonEl =\n",
              "          document.querySelector('#df-3c1a675e-b68e-4848-937e-fa2890f464d6 button.colab-df-convert');\n",
              "        buttonEl.style.display =\n",
              "          google.colab.kernel.accessAllowed ? 'block' : 'none';\n",
              "\n",
              "        async function convertToInteractive(key) {\n",
              "          const element = document.querySelector('#df-3c1a675e-b68e-4848-937e-fa2890f464d6');\n",
              "          const dataTable =\n",
              "            await google.colab.kernel.invokeFunction('convertToInteractive',\n",
              "                                                     [key], {});\n",
              "          if (!dataTable) return;\n",
              "\n",
              "          const docLinkHtml = 'Like what you see? Visit the ' +\n",
              "            '<a target=\"_blank\" href=https://colab.research.google.com/notebooks/data_table.ipynb>data table notebook</a>'\n",
              "            + ' to learn more about interactive tables.';\n",
              "          element.innerHTML = '';\n",
              "          dataTable['output_type'] = 'display_data';\n",
              "          await google.colab.output.renderOutput(dataTable, element);\n",
              "          const docLink = document.createElement('div');\n",
              "          docLink.innerHTML = docLinkHtml;\n",
              "          element.appendChild(docLink);\n",
              "        }\n",
              "      </script>\n",
              "    </div>\n",
              "  </div>\n",
              "  "
            ],
            "text/plain": [
              "      Garage Cars  Full Bath  Year Built  Garage Yr Blt\n",
              "125             2          2        1890           1950\n",
              "201             2          3        1893           1988\n",
              "280             2          2        1885           1971\n",
              "317             2          1        1890           1996\n",
              "467             2          1        1890           1963\n",
              "683             3          2        1892           1993\n",
              "1187            1          1        1885           1954"
            ]
          },
          "metadata": {},
          "execution_count": 44
        }
      ]
    },
    {
      "cell_type": "code",
      "source": [
        "YB_idx = outlier(n4df['Year Built'])"
      ],
      "metadata": {
        "colab": {
          "base_uri": "https://localhost:8080/"
        },
        "id": "_U0EDA2y0YRR",
        "outputId": "d929fbd3-c99b-4568-a1c1-9a51ca74c3ca"
      },
      "execution_count": null,
      "outputs": [
        {
          "output_type": "stream",
          "name": "stdout",
          "text": [
            "q1 = 1956.0\n",
            "q3 = 2002.0\n",
            "lb =  1887.0\n",
            "ub = 2071.0\n"
          ]
        }
      ]
    },
    {
      "cell_type": "code",
      "source": [
        "plt.figure(figsize=(7,6))\n",
        "boxplot = n4df.boxplot(column=['Year Built'])\n",
        "#plt.yticks(np.arange(1800,2020,step=20))\n",
        "plt.show()"
      ],
      "metadata": {
        "colab": {
          "base_uri": "https://localhost:8080/",
          "height": 374
        },
        "outputId": "27453017-66ee-4e5f-a202-c4d9b6d68dbc",
        "id": "GBjJKIWduYvM"
      },
      "execution_count": null,
      "outputs": [
        {
          "output_type": "display_data",
          "data": {
            "image/png": "[encoded data removed]",
            "text/plain": [
              "<Figure size 504x432 with 1 Axes>"
            ]
          },
          "metadata": {}
        }
      ]
    }
  ]
}